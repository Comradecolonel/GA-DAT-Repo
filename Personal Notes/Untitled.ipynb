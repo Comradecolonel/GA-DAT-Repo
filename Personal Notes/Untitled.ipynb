{
 "cells": [
  {
   "cell_type": "code",
   "execution_count": 17,
   "metadata": {},
   "outputs": [
    {
     "name": "stdout",
     "output_type": "stream",
     "text": [
      "[(2, 2), (3, 2), (4, 3), (5, 4)]\n"
     ]
    }
   ],
   "source": [
    "my_list = [2, 2, 3, 4]\n",
    "\n",
    "my_elist = list(enumerate(my_list, 2))\n",
    "\n",
    "print(my_elist)"
   ]
  },
  {
   "cell_type": "code",
   "execution_count": 15,
   "metadata": {},
   "outputs": [
    {
     "name": "stdout",
     "output_type": "stream",
     "text": [
      "(0, 2)\n",
      "(1, 2)\n",
      "(2, 3)\n",
      "(3, 4)\n"
     ]
    }
   ],
   "source": [
    "for value in enumerate(my_list):\n",
    "    print(value)"
   ]
  },
  {
   "cell_type": "code",
   "execution_count": 21,
   "metadata": {},
   "outputs": [
    {
     "name": "stdout",
     "output_type": "stream",
     "text": [
      "[('apple', 'maple', 'SRM', 'sour'), ('banana', 'oak', 'LRM', 'lager'), ('mango', 'birch', 'PPC', 'ale'), ('pear', 'pine', 'AC10', 'stout')]\n"
     ]
    }
   ],
   "source": [
    "fruits = ['apple', 'banana', 'mango', 'pear']\n",
    "wood = ['maple', 'oak', 'birch', 'pine']\n",
    "wep = ['SRM', 'LRM','PPC','AC10']\n",
    "beer = ['sour','lager','ale','stout']\n",
    "\n",
    "issho = list(zip(fruits, wood, wep, beer))\n",
    "\n",
    "print(issho)"
   ]
  },
  {
   "cell_type": "code",
   "execution_count": 22,
   "metadata": {},
   "outputs": [
    {
     "name": "stdout",
     "output_type": "stream",
     "text": [
      "word\n"
     ]
    }
   ],
   "source": [
    "fixed = 'word'\n",
    "\n",
    "print(fixed)"
   ]
  },
  {
   "cell_type": "code",
   "execution_count": 28,
   "metadata": {},
   "outputs": [
    {
     "name": "stdout",
     "output_type": "stream",
     "text": [
      "['apple', 'maple', 'SRM', 'sour', 'banana', 'oak', 'LRM', 'lager', 'mango', 'birch', 'PPC', 'ale', 'pear', 'pine', 'AC10', 'stout']\n"
     ]
    }
   ],
   "source": [
    "isfruit = [item2 for item in issho for item2 in item if item2 == 'apple' or 'pear' or 'mango' or 'banana']\n",
    "print(isfruit)"
   ]
  },
  {
   "cell_type": "code",
   "execution_count": null,
   "metadata": {},
   "outputs": [],
   "source": [
    "import pandas as pd\n",
    "\n"
   ]
  }
 ],
 "metadata": {
  "kernelspec": {
   "display_name": "Python 3",
   "language": "python",
   "name": "python3"
  },
  "language_info": {
   "codemirror_mode": {
    "name": "ipython",
    "version": 3
   },
   "file_extension": ".py",
   "mimetype": "text/x-python",
   "name": "python",
   "nbconvert_exporter": "python",
   "pygments_lexer": "ipython3",
   "version": "3.7.3"
  }
 },
 "nbformat": 4,
 "nbformat_minor": 2
}
