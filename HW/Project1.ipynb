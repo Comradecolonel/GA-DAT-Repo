{
 "cells": [
  {
   "cell_type": "markdown",
   "metadata": {},
   "source": [
    "<img src=\"http://imgur.com/1ZcRyrc.png\" style=\"float: left; margin: 20px; height: 55px\">\n",
    "\n",
    "# Project 1: Python Coding Exercises\n",
    "\n",
    "_Authors: Joseph Nelson (DC) _\n",
    "\n",
    "---"
   ]
  },
  {
   "cell_type": "markdown",
   "metadata": {},
   "source": [
    "The following code challenges are drawn from common exercises used in technical interviews.\n",
    "\n",
    "Please note that there may be several ways to approach each challenge. If you get stuck, try mapping out your approach in pseudocode first. Finally, while solutions to problems like these may be found online, remember that if you copy/paste code that you can't explain, you'll be missing out on the point of the project. The only way to truly learn a new skill is through practice, trial, and error - we can only help you improve by understanding where you are having trouble."
   ]
  },
  {
   "cell_type": "markdown",
   "metadata": {},
   "source": [
    "### Challenge 1: Largest Palindrome\n",
    "A palindromic number reads the same both ways. For example, 1234321 is a palindrome. The largest palindrome made from the product of two two-digit numbers is 9009 = 91 × 99. Find the largest palindrome made from the product of two three-digit numbers. Afterward, write a brief explanation walking through your code's logic in markdown."
   ]
  },
  {
   "cell_type": "code",
   "execution_count": 1,
   "metadata": {},
   "outputs": [
    {
     "name": "stdout",
     "output_type": "stream",
     "text": [
      "this number is the winner:\n",
      "698896\n"
     ]
    }
   ],
   "source": [
    "num1 = 999\n",
    "num2 = 999\n",
    "chk = 0\n",
    "x = False\n",
    "while x != True:\n",
    "    chk = num1 * num2\n",
    "    if str(chk) == str(chk)[::-1]:\n",
    "        x = True\n",
    "    else:\n",
    "        if num1>num2:\n",
    "            num1 -= 1\n",
    "        else:\n",
    "            num2 -= 1\n",
    "print(\"this number is the winner:\")\n",
    "print(chk)"
   ]
  },
  {
   "cell_type": "markdown",
   "metadata": {},
   "source": [
    "First part of the code initializes the two numbers to be multiplied, a variable to store the product, and a boolean to flag when a palindrome has been found.\n",
    "\n",
    "A while loops then iterates through each product. The conditional statement inside checks to see if the product of the two numbers is the same whether forwards and backwards. This is accomplished using a slicing technique that evaluates the whole string with a negative step. It starts at zero and then with the negative step goes to the end of the string and increments backwards from there.\n",
    "\n",
    "If the first conditional statement evaluates True then it changes x it true and stops the while loop.\n",
    "\n",
    "If the first statement evaluates as false, then the else statement increments either the first or second number, depending on whether or not the first number is larger than the second. This makes sure that either one only gets incremented with each loop so a product is not missed.\n",
    "\n",
    "Once the while loop is completed, two lines are printed to display which number is the \"winner\".\n"
   ]
  },
  {
   "cell_type": "markdown",
   "metadata": {},
   "source": [
    "\n",
    "### Challenge 2: Summation of Primes\n",
    "The sum of the primes below 10 is 2 + 3 + 5 + 7 = 17. Find the sum of all the primes below 2,000. Afterward, write a brief explanation walking through your code's logic in markdown."
   ]
  },
  {
   "cell_type": "code",
   "execution_count": 2,
   "metadata": {},
   "outputs": [
    {
     "name": "stdout",
     "output_type": "stream",
     "text": [
      "277050\n"
     ]
    }
   ],
   "source": [
    "primesum = 0\n",
    "\n",
    "for x in range(2 , 2000):\n",
    "    for i in range(2, x):\n",
    "        if (x % i) == 0:\n",
    "            break\n",
    "    else:\n",
    "        primesum += x\n",
    "\n",
    "print(primesum)"
   ]
  },
  {
   "cell_type": "markdown",
   "metadata": {},
   "source": [
    "A variable is initialized to store the sum of every prime that is found.\n",
    "\n",
    "A for loop iterates through a specified range (in this case 2000). 1 is left out because its not a prime number. For each value, there is a check to see if it can be divided by any numbers. If this evaluates as true it breaks the loop and tries the next number. If it get through the entire loop without any factors found, the value is then added to the sum variable.\n",
    "\n",
    "The process continues until all the values have been checked, and it then prints the prime sum."
   ]
  },
  {
   "cell_type": "markdown",
   "metadata": {},
   "source": [
    "### Challenge 3: Multiples of 3 and 5\n",
    "If we list all of the natural numbers below 10 that are multiples of 3 or 5, we get 3, 5, 6, and 9. The sum of these multiples is 23. Find the sum of all the multiples of 3 and 5 below 1,000. Afterward, write a brief explanation walking through your code's logic in markdown."
   ]
  },
  {
   "cell_type": "code",
   "execution_count": 3,
   "metadata": {},
   "outputs": [
    {
     "name": "stdout",
     "output_type": "stream",
     "text": [
      "233168\n"
     ]
    }
   ],
   "source": [
    "multisum = 0\n",
    "\n",
    "for x in range(1000):\n",
    "    if x % 3 == 0:\n",
    "        multisum += x\n",
    "    elif x % 5 == 0:\n",
    "        multisum += x\n",
    "print(multisum)"
   ]
  },
  {
   "cell_type": "markdown",
   "metadata": {},
   "source": [
    "The sum variable is initialized first.\n",
    "\n",
    "A for loop then iterates through a range of 1001. It starts at zero and evaluates each value up to 1000. A conditional statement evaluates whether or not a value is divisble by 3 and 5. If either is true the value is added once to the sum. If neither are true it skips to the next value. \n",
    "\n",
    "Once the for loop finishes, the sum is printed."
   ]
  },
  {
   "cell_type": "markdown",
   "metadata": {},
   "source": [
    "### Challenge 4: String Compressor\n",
    "Implement a method to perform basic string compression using the counts of repeated characters. (This is called run-length encoding.) For example, the string \"aabcccccaaa\" would become a2b1c5a3. If the “compressed” string would not become smaller than the original string, your method should return the original string. You can assume the string has only uppercase and lowercase letters (a–z). Specify whether your solution is case sensitive or case insensitive and what you would need to change to make it the other. Afterward, write a brief explanation walking through your code's logic in markdown."
   ]
  },
  {
   "cell_type": "code",
   "execution_count": 4,
   "metadata": {},
   "outputs": [
    {
     "name": "stdout",
     "output_type": "stream",
     "text": [
      "aaaabbbbbcccccccuikolpxxxnnnnnlllppp\n",
      "a4b5c7u1i1k1o1l1p1x3n5l3p3\n"
     ]
    }
   ],
   "source": [
    "def stringcompressor(strtocompr):\n",
    "\n",
    "\n",
    "    strchklst = []\n",
    "    x = 1\n",
    "    result = \"\"\n",
    "\n",
    "    for char in strtocompr:\n",
    "        strchklst.append(char)\n",
    "    \n",
    "    result = strchklst[0]\n",
    "\n",
    "    for item in range(len(strchklst)-1):\n",
    "         if strchklst[item] == strchklst[item + 1]:\n",
    "                x+=1\n",
    "         else:\n",
    "                result += str(x)\n",
    "                result += strchklst[item + 1]\n",
    "                x = 1\n",
    "    if(x > 1):\n",
    "        result += str(x)\n",
    "    print(result)\n",
    "\n",
    "stringcompressor(input())"
   ]
  },
  {
   "cell_type": "markdown",
   "metadata": {},
   "source": [
    "First part defines the method to be called. It accepts one variable, the string to be compressed. The variables initialized are the a list to store all the characters in the string. I realize I don't need to do this but I discovered it after I wrote the code and didn't want to break anything so I left it as is. I realize you can interate through strings just like lists. I also initialize a variable to count the number of the same consecutive characters. The final variable is the string that is the result of the compression.\n",
    "\n",
    "The first for loop takes all the characters in the string and makes them a separate element in the list. Again I realize this isn't needed but it was good practice :P\n",
    "\n",
    "The value of the result is then set to the first element in the list. This because the following loop only adds a letter when the next one is different from the former. In this case the first letter would always be skipped over since it can't be compared to the former. \n",
    "\n",
    "A for loop then iterates through the list. It uses the len() method so that it will work regardless of the size of the string. It is one less the length since the index starts at 0 not 1. Each character at an index is compared to the next to see if they are the same. If they are then it increases the count by one. If not then it prints the current count and the next letter. It also resets the count.\n",
    "\n",
    "A final if statement is after the loop to add the count of the final character. This is needed since the count is only added in the for loop when the next letter is different from the former. The final letter never triggers this since there is nothing to compare to at the end of the loop.\n",
    "\n",
    "It then prints the result.\n",
    "\n",
    "The last line allows the user to input a string, allowing for testing of any kind of string.\n",
    "\n",
    "The current version of this is case sensitive, but to make it not case sensitive I would just need a line of code that takes the input string and uses the lower() method to make everything lowercase before it is checked.\n",
    "\n",
    "Just a side note that I'm sure your aware of, actually words don't take advantage of character compression since there are no more than 2 consecutive characters in any words. The number of the characters always remains the same."
   ]
  },
  {
   "cell_type": "markdown",
   "metadata": {},
   "source": [
    "### *BONUS* Challenge: FizzBuzz\n",
    "Write a program that prints all of the numbers from 1 to 100. For multiples of 3, instead of the number, print \"Fizz;\" for multiples of 5, print \"Buzz.\" For numbers that are multiples of both 3 and 5, print \"FizzBuzz.\" Afterward, write a brief explanation walking through your code's logic in markdown."
   ]
  },
  {
   "cell_type": "code",
   "execution_count": 5,
   "metadata": {},
   "outputs": [
    {
     "name": "stdout",
     "output_type": "stream",
     "text": [
      "1\n",
      "2\n",
      "Fizz\n",
      "4\n",
      "Buzz\n",
      "Fizz\n",
      "7\n",
      "8\n",
      "Fizz\n",
      "Buzz\n",
      "11\n",
      "Fizz\n",
      "13\n",
      "14\n",
      "FizzBuzz\n",
      "16\n",
      "17\n",
      "Fizz\n",
      "19\n",
      "Buzz\n",
      "Fizz\n",
      "22\n",
      "23\n",
      "Fizz\n",
      "Buzz\n",
      "26\n",
      "Fizz\n",
      "28\n",
      "29\n",
      "FizzBuzz\n",
      "31\n",
      "32\n",
      "Fizz\n",
      "34\n",
      "Buzz\n",
      "Fizz\n",
      "37\n",
      "38\n",
      "Fizz\n",
      "Buzz\n",
      "41\n",
      "Fizz\n",
      "43\n",
      "44\n",
      "FizzBuzz\n",
      "46\n",
      "47\n",
      "Fizz\n",
      "49\n",
      "Buzz\n",
      "Fizz\n",
      "52\n",
      "53\n",
      "Fizz\n",
      "Buzz\n",
      "56\n",
      "Fizz\n",
      "58\n",
      "59\n",
      "FizzBuzz\n",
      "61\n",
      "62\n",
      "Fizz\n",
      "64\n",
      "Buzz\n",
      "Fizz\n",
      "67\n",
      "68\n",
      "Fizz\n",
      "Buzz\n",
      "71\n",
      "Fizz\n",
      "73\n",
      "74\n",
      "FizzBuzz\n",
      "76\n",
      "77\n",
      "Fizz\n",
      "79\n",
      "Buzz\n",
      "Fizz\n",
      "82\n",
      "83\n",
      "Fizz\n",
      "Buzz\n",
      "86\n",
      "Fizz\n",
      "88\n",
      "89\n",
      "FizzBuzz\n",
      "91\n",
      "92\n",
      "Fizz\n",
      "94\n",
      "Buzz\n",
      "Fizz\n",
      "97\n",
      "98\n",
      "Fizz\n",
      "Buzz\n",
      "Fizzes:\n",
      "27\n",
      "Buzzes:\n",
      "14\n",
      "FizzBuzzes:\n",
      "6\n"
     ]
    }
   ],
   "source": [
    "fizzcount = 0\n",
    "buzzcount = 0\n",
    "fizzbuzzcount = 0\n",
    "\n",
    "for i in range(1,101):\n",
    "    if i % 3 == 0 and i % 5 == 0:\n",
    "        print(\"FizzBuzz\")\n",
    "        fizzbuzzcount += 1\n",
    "    elif i % 3 == 0:\n",
    "        print(\"Fizz\")\n",
    "        fizzcount += 1\n",
    "    elif i % 5 == 0:\n",
    "        print(\"Buzz\")\n",
    "        buzzcount += 1\n",
    "    else:\n",
    "        print(i)\n",
    "print(\"Fizzes:\")\n",
    "print(fizzcount)\n",
    "print(\"Buzzes:\")\n",
    "print(buzzcount)\n",
    "print(\"FizzBuzzes:\")\n",
    "print(fizzbuzzcount)"
   ]
  },
  {
   "cell_type": "markdown",
   "metadata": {},
   "source": [
    "This all just a single for loop that iterates from 1 to 100. It evaluates each value, starting with a check to see if it is divisible by 3 and 5. If not then it checks both seperately. If all evaluate false, then it just prints the current value.\n",
    "\n",
    "I added a bit to this because I was curious how many of each were printed. For each if and elif that evaluates true it also adds to a count that corresponds with the word that is printed. It then prints the total counts at the end."
   ]
  },
  {
   "cell_type": "code",
   "execution_count": null,
   "metadata": {},
   "outputs": [],
   "source": []
  }
 ],
 "metadata": {
  "anaconda-cloud": {},
  "kernelspec": {
   "display_name": "Python 3",
   "language": "python",
   "name": "python3"
  },
  "language_info": {
   "codemirror_mode": {
    "name": "ipython",
    "version": 3
   },
   "file_extension": ".py",
   "mimetype": "text/x-python",
   "name": "python",
   "nbconvert_exporter": "python",
   "pygments_lexer": "ipython3",
   "version": "3.7.3"
  }
 },
 "nbformat": 4,
 "nbformat_minor": 2
}
